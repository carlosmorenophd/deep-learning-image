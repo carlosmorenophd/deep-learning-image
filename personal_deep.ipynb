{
 "cells": [
  {
   "cell_type": "code",
   "execution_count": 1,
   "metadata": {},
   "outputs": [],
   "source": [
    "import numpy as np\n"
   ]
  },
  {
   "cell_type": "code",
   "execution_count": 4,
   "metadata": {},
   "outputs": [
    {
     "name": "stdout",
     "output_type": "stream",
     "text": [
      "8 , 8\n"
     ]
    }
   ],
   "source": [
    "img = np.array([\n",
    "    [2, 2, 6, 4, 8, 5, 4, 4,],\n",
    "    [1, 1, 9, 3, 3, 5, 5, 7,],\n",
    "    [0, 0, 0, 6, 0, 4, 9, 8,],\n",
    "    [3, 3, 8, 5, 6, 7, 7, 5,],\n",
    "    [4, 2, 5, 7, 1, 6, 0, 6,],\n",
    "    [1, 2, 7, 0, 4, 0, 2, 1,],\n",
    "    [8, 6, 7, 2, 6, 8, 1, 0,],\n",
    "    [8, 9, 0, 1, 4, 2, 1, 2,],\n",
    "])\n",
    "column, row =img.shape\n",
    "print(\"{} , {}\".format(column, row))\n",
    "# for i in range(0, )"
   ]
  }
 ],
 "metadata": {
  "kernelspec": {
   "display_name": ".venv",
   "language": "python",
   "name": "python3"
  },
  "language_info": {
   "codemirror_mode": {
    "name": "ipython",
    "version": 3
   },
   "file_extension": ".py",
   "mimetype": "text/x-python",
   "name": "python",
   "nbconvert_exporter": "python",
   "pygments_lexer": "ipython3",
   "version": "3.10.12"
  }
 },
 "nbformat": 4,
 "nbformat_minor": 2
}
