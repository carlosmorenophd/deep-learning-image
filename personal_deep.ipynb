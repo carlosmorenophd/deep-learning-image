{
 "cells": [
  {
   "cell_type": "code",
   "execution_count": 1,
   "metadata": {},
   "outputs": [],
   "source": [
    "import numpy as np\n"
   ]
  },
  {
   "cell_type": "code",
   "execution_count": 17,
   "metadata": {},
   "outputs": [
    {
     "name": "stdout",
     "output_type": "stream",
     "text": [
      "[[2 2 6]\n",
      " [1 1 9]\n",
      " [0 0 0]]\n",
      "8 , 8\n",
      "New imagen with convolution\n",
      "[[1.3125 1.9375 2.4375 2.375  2.6875 3.1875]\n",
      " [1.5625 2.1875 2.5    2.4375 2.875  3.5625]\n",
      " [1.5625 2.25   2.375  2.625  2.5    3.25  ]\n",
      " [2.1875 2.4375 2.6875 2.25   2.0625 2.125 ]\n",
      " [2.625  2.375  2.4375 2.125  1.75   1.5   ]\n",
      " [3.     2.125  1.9375 1.6875 1.75   1.0625]]\n"
     ]
    }
   ],
   "source": [
    "img = np.array([\n",
    "    [2, 2, 6, 4, 8, 5, 4, 4,],\n",
    "    [1, 1, 9, 3, 3, 5, 5, 7,],\n",
    "    [0, 0, 0, 6, 0, 4, 9, 8,],\n",
    "    [3, 3, 8, 5, 6, 7, 7, 5,],\n",
    "    [4, 2, 5, 7, 1, 6, 0, 6,],\n",
    "    [1, 2, 7, 0, 4, 0, 2, 1,],\n",
    "    [8, 6, 7, 2, 6, 8, 1, 0,],\n",
    "    [8, 9, 0, 1, 4, 2, 1, 2,],\n",
    "])\n",
    "column, row = img.shape\n",
    "\n",
    "mask = np.array([\n",
    "    [1, 1, 1],\n",
    "    [1, 1, 1],\n",
    "    [1, 1, 1],\n",
    "])\n",
    "img_convolution = np.zeros((column -2 , row -2))\n",
    "print(img[0:3, 0:3])\n",
    "print(\"{} , {}\".format(column, row))\n",
    "for index_column in range(0, column - 2):\n",
    "    for index_row in range(0, column - 2):\n",
    "        next_column = index_column + 3\n",
    "        next_row = index_row + 3\n",
    "        sub_img = img[index_column:next_column, index_row:next_row]\n",
    "        sub_img = (sub_img * mask) / 16\n",
    "        img_convolution[index_column, index_row] = sub_img.sum()\n",
    "print(\"New imagen with convolution\")\n",
    "print(img_convolution)"
   ]
  },
  {
   "cell_type": "code",
   "execution_count": null,
   "metadata": {},
   "outputs": [],
   "source": []
  }
 ],
 "metadata": {
  "kernelspec": {
   "display_name": ".venv",
   "language": "python",
   "name": "python3"
  },
  "language_info": {
   "codemirror_mode": {
    "name": "ipython",
    "version": 3
   },
   "file_extension": ".py",
   "mimetype": "text/x-python",
   "name": "python",
   "nbconvert_exporter": "python",
   "pygments_lexer": "ipython3",
   "version": "3.10.12"
  }
 },
 "nbformat": 4,
 "nbformat_minor": 2
}
