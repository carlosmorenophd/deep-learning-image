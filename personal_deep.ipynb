{
 "cells": [
  {
   "cell_type": "code",
   "execution_count": 27,
   "metadata": {},
   "outputs": [],
   "source": [
    "import numpy as np"
   ]
  },
  {
   "cell_type": "code",
   "execution_count": 28,
   "metadata": {},
   "outputs": [
    {
     "name": "stdout",
     "output_type": "stream",
     "text": [
      "[[2 2 6]\n",
      " [1 1 9]\n",
      " [0 0 0]]\n",
      "8 , 8\n",
      "New image with convolution\n",
      "[[0.25925926 0.38271605 0.48148148 0.4691358  0.5308642  0.62962963]\n",
      " [0.30864198 0.43209877 0.49382716 0.48148148 0.56790123 0.7037037 ]\n",
      " [0.30864198 0.44444444 0.4691358  0.51851852 0.49382716 0.64197531]\n",
      " [0.43209877 0.48148148 0.5308642  0.44444444 0.40740741 0.41975309]\n",
      " [0.51851852 0.4691358  0.48148148 0.41975309 0.34567901 0.2962963 ]\n",
      " [0.59259259 0.41975309 0.38271605 0.33333333 0.34567901 0.20987654]]\n"
     ]
    }
   ],
   "source": [
    "img = np.array([\n",
    "    [2, 2, 6, 4, 8, 5, 4, 4,],\n",
    "    [1, 1, 9, 3, 3, 5, 5, 7,],\n",
    "    [0, 0, 0, 6, 0, 4, 9, 8,],\n",
    "    [3, 3, 8, 5, 6, 7, 7, 5,],\n",
    "    [4, 2, 5, 7, 1, 6, 0, 6,],\n",
    "    [1, 2, 7, 0, 4, 0, 2, 1,],\n",
    "    [8, 6, 7, 2, 6, 8, 1, 0,],\n",
    "    [8, 9, 0, 1, 4, 2, 1, 2,],\n",
    "])\n",
    "column, row = img.shape\n",
    "\n",
    "mask = np.array([\n",
    "    [1, 1, 1],\n",
    "    [1, 1, 1],\n",
    "    [1, 1, 1],\n",
    "])\n",
    "\n",
    "mask = mask / np.sum(mask)\n",
    "img_convolution = np.zeros((column - 2, row - 2))\n",
    "print(img[0:3, 0:3])\n",
    "print(\"{} , {}\".format(column, row))\n",
    "for index_column in range(0, column - 2):\n",
    "    for index_row in range(0, column - 2):\n",
    "        next_column = index_column + 3\n",
    "        next_row = index_row + 3\n",
    "        sub_img = img[index_column:next_column, index_row:next_row]\n",
    "        sub_img = (sub_img * mask) / np.max(img)\n",
    "        img_convolution[index_column, index_row] = sub_img.sum()\n",
    "print(\"New image with convolution\")\n",
    "print(img_convolution)"
   ]
  },
  {
   "cell_type": "code",
   "execution_count": 29,
   "metadata": {},
   "outputs": [
    {
     "name": "stdout",
     "output_type": "stream",
     "text": [
      "(36,)\n",
      "[-1.4018281   0.09055933  1.63265076 -1.42936697 -0.12692891 -1.48320342\n",
      "  1.5503964   3.65057558  0.09650323 -0.63884646 -3.42506352 -2.47257203\n",
      "  0.68440621 -2.30493198  5.05060222  4.29061151  2.17959522  0.78572281\n",
      "  1.2555351  -2.26401013 -0.76377496 -0.70153965  1.96193561  3.2536278\n",
      "  2.68341989  0.87517258 -2.93751795  2.10218819 -6.81480236 -0.55175671\n",
      "  4.8350907   4.67402836 -0.43078603 -0.69791367 -3.36047257  1.25600284]\n",
      "[0.19752618 0.52262437 0.83653244 0.19319734 0.46831031 0.18494405\n",
      " 0.82497098 0.9746815  0.5241071  0.34550734 0.03152128 0.07780349\n",
      " 0.66472141 0.09071532 0.99363529 0.98648851 0.89840213 0.6869122\n",
      " 0.77825654 0.09414781 0.31782724 0.33147096 0.87674228 0.96280325\n",
      " 0.93604117 0.70582086 0.05032977 0.89111568 0.00109621 0.36545694\n",
      " 0.99211667 0.99075174 0.39393865 0.33227496 0.0335539  0.77833725]\n",
      "[0. 1. 1. 0. 0. 0. 1. 1. 1. 0. 0. 0. 1. 0. 1. 1. 1. 1. 1. 0. 0. 0. 1. 1.\n",
      " 1. 1. 0. 1. 0. 0. 1. 1. 0. 0. 0. 1.]\n"
     ]
    }
   ],
   "source": [
    "X = img_convolution.ravel()\n",
    "print(X.shape)\n",
    "\n",
    "number_neural_network = 36\n",
    "number_weight = 36\n",
    "layer_1 = np.random.randn(number_neural_network, number_weight)\n",
    "bias = np.ones(number_neural_network)\n",
    "output = np.zeros(number_neural_network)\n",
    "for index_mask in range(0,number_neural_network):\n",
    "    sum_weight = X * layer_1[index_mask]\n",
    "    output[index_mask] = bias[index_mask] + sum_weight.sum()\n",
    "print(output)\n",
    "activation=1/(1 + np.exp(-output))\n",
    "print(activation)\n",
    "activation_round = np.clip(np.round(activation),0,1)\n",
    "print(activation_round)"
   ]
  },
  {
   "cell_type": "markdown",
   "metadata": {},
   "source": [
    "##Calculate the derivate"
   ]
  },
  {
   "cell_type": "code",
   "execution_count": 31,
   "metadata": {},
   "outputs": [
    {
     "name": "stdout",
     "output_type": "stream",
     "text": [
      "[ 44.62502694  16.89705206 -11.75440372  45.13668826  20.93789855\n",
      "  46.13694854 -10.22614989 -49.24665778  16.78661676]\n",
      "[[ 44.62502694  16.89705206 -11.75440372]\n",
      " [ 45.13668826  20.93789855  46.13694854]\n",
      " [-10.22614989 -49.24665778  16.78661676]]\n"
     ]
    }
   ],
   "source": [
    "target = np.ones(number_neural_network)\n",
    "\n",
    "bias_derivate = - (2 * ((target - activation ) * np.exp(-output))) / np.square(1+ np.exp(-output))\n",
    "#  print(bias_derivate)\n",
    "\n",
    "weight_derivate = np.ones((number_neural_network, number_weight))\n",
    "for index_mask in range(0,number_neural_network):\n",
    "    weight_derivate[index_mask] = - ((2 * ((target - activation ) * np.exp(-output))) * X) / np.square(1+ np.exp(-output))\n",
    "# print(weight_derivate)\n",
    "\n",
    "\n",
    "v_mask = np.concatenate(mask)\n",
    "row_mask = v_mask.shape[0]\n",
    "# print(v_mask, row_mask)\n",
    "mask_derivate = np.zeros(row_mask)\n",
    "for index_mask in range(0, row_mask):\n",
    "    double_sum = 0\n",
    "    for index_nwural in range(0,number_neural_network):\n",
    "        sum = layer_1[index_mask] * X * v_mask[index_mask]\n",
    "        double_sum = double_sum + sum.sum()\n",
    "    mask_error = (((target - activation ) * np.exp(-output)) / np.square(1+ np.exp(-output)) )* double_sum\n",
    "    mask_derivate[index_mask] = - 2 * mask_error.sum()\n",
    "mask_derivate_new = np.reshape(mask_derivate, (3,3))\n",
    "print(mask_derivate)\n",
    "print(mask_derivate_new)\n",
    "\n"
   ]
  }
 ],
 "metadata": {
  "kernelspec": {
   "display_name": ".venv",
   "language": "python",
   "name": "python3"
  },
  "language_info": {
   "codemirror_mode": {
    "name": "ipython",
    "version": 3
   },
   "file_extension": ".py",
   "mimetype": "text/x-python",
   "name": "python",
   "nbconvert_exporter": "python",
   "pygments_lexer": "ipython3",
   "version": "3.10.12"
  }
 },
 "nbformat": 4,
 "nbformat_minor": 2
}
