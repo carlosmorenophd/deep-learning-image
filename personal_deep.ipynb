{
 "cells": [
  {
   "cell_type": "code",
   "execution_count": 1,
   "metadata": {},
   "outputs": [],
   "source": [
    "import numpy as np"
   ]
  },
  {
   "cell_type": "code",
   "execution_count": 48,
   "metadata": {},
   "outputs": [
    {
     "name": "stdout",
     "output_type": "stream",
     "text": [
      "[[2 2 6]\n",
      " [1 1 9]\n",
      " [0 0 0]]\n",
      "8 , 8\n",
      "New image with convolution\n",
      "[[0.25925926 0.38271605 0.48148148 0.4691358  0.5308642  0.62962963]\n",
      " [0.30864198 0.43209877 0.49382716 0.48148148 0.56790123 0.7037037 ]\n",
      " [0.30864198 0.44444444 0.4691358  0.51851852 0.49382716 0.64197531]\n",
      " [0.43209877 0.48148148 0.5308642  0.44444444 0.40740741 0.41975309]\n",
      " [0.51851852 0.4691358  0.48148148 0.41975309 0.34567901 0.2962963 ]\n",
      " [0.59259259 0.41975309 0.38271605 0.33333333 0.34567901 0.20987654]]\n"
     ]
    }
   ],
   "source": [
    "img = np.array([\n",
    "    [2, 2, 6, 4, 8, 5, 4, 4,],\n",
    "    [1, 1, 9, 3, 3, 5, 5, 7,],\n",
    "    [0, 0, 0, 6, 0, 4, 9, 8,],\n",
    "    [3, 3, 8, 5, 6, 7, 7, 5,],\n",
    "    [4, 2, 5, 7, 1, 6, 0, 6,],\n",
    "    [1, 2, 7, 0, 4, 0, 2, 1,],\n",
    "    [8, 6, 7, 2, 6, 8, 1, 0,],\n",
    "    [8, 9, 0, 1, 4, 2, 1, 2,],\n",
    "])\n",
    "column, row = img.shape\n",
    "\n",
    "mask = np.array([\n",
    "    [1, 1, 1],\n",
    "    [1, 1, 1],\n",
    "    [1, 1, 1],\n",
    "])\n",
    "\n",
    "mask = mask / np.sum(mask)\n",
    "img_convolution = np.zeros((column - 2, row - 2))\n",
    "print(img[0:3, 0:3])\n",
    "print(\"{} , {}\".format(column, row))\n",
    "for index_column in range(0, column - 2):\n",
    "    for index_row in range(0, column - 2):\n",
    "        next_column = index_column + 3\n",
    "        next_row = index_row + 3\n",
    "        sub_img = img[index_column:next_column, index_row:next_row]\n",
    "        sub_img = (sub_img * mask) / np.max(img)\n",
    "        img_convolution[index_column, index_row] = sub_img.sum()\n",
    "print(\"New image with convolution\")\n",
    "print(img_convolution)"
   ]
  },
  {
   "cell_type": "code",
   "execution_count": 53,
   "metadata": {},
   "outputs": [
    {
     "name": "stdout",
     "output_type": "stream",
     "text": [
      "(36,)\n",
      "[-1.58127547  2.76388212 -8.98802488  4.48548693  0.17880713  0.65057227\n",
      "  3.50530098  0.35115142  2.31811891 -1.94095709  1.31287298  3.43497009\n",
      "  1.87048571 -0.6885349   0.11572658 -0.84092195 -0.76673699  0.67985364\n",
      " -2.61553495  2.77670101  0.02647481 -1.2305213  -3.75772572 -0.69813774\n",
      "  8.25800973 -1.20715542  3.92092411 -3.0641435   1.74835095  3.19586876\n",
      "  5.49567317  1.95624424 -0.94712691 -0.57375871  1.36955278 -2.56427937]\n",
      "[1.70614920e-01 9.40692588e-01 1.24880939e-04 9.88854231e-01\n",
      " 5.44583061e-01 6.57139410e-01 9.70838222e-01 5.86896767e-01\n",
      " 9.10366563e-01 1.25542747e-01 7.87993512e-01 9.68779741e-01\n",
      " 8.66514468e-01 3.34359070e-01 5.28899398e-01 3.01340645e-01\n",
      " 3.17185383e-01 6.63706031e-01 6.81452851e-02 9.41403728e-01\n",
      " 5.06618315e-01 2.26090199e-01 2.28045697e-02 3.32225244e-01\n",
      " 9.99740893e-01 2.30204754e-01 9.80562536e-01 4.46107706e-02\n",
      " 8.51744688e-01 9.60678515e-01 9.95912285e-01 8.76125918e-01\n",
      " 2.79462991e-01 3.60369976e-01 7.97307889e-01 7.14730219e-02]\n",
      "[0. 1. 0. 1. 1. 1. 1. 1. 1. 0. 1. 1. 1. 0. 1. 0. 0. 1. 0. 1. 1. 0. 0. 0.\n",
      " 1. 0. 1. 0. 1. 1. 1. 1. 0. 0. 1. 0.]\n"
     ]
    }
   ],
   "source": [
    "X = img_convolution.ravel()\n",
    "print(X.shape)\n",
    "\n",
    "number_neural_network = 36\n",
    "number_weight = 36\n",
    "layer_1 = np.random.randn(number_neural_network, number_weight)\n",
    "bias = np.ones(number_neural_network)\n",
    "output = np.zeros(number_neural_network)\n",
    "for index in range(0,number_neural_network):\n",
    "    sum_weight = X * layer_1[index]\n",
    "    output[index] = bias[index] + sum_weight.sum()\n",
    "print(output)\n",
    "activation=1/(1 + np.exp(-output))\n",
    "print(activation)\n",
    "activation_round = np.clip(np.round(activation),0,1)\n",
    "print(activation_round)"
   ]
  },
  {
   "cell_type": "markdown",
   "metadata": {},
   "source": [
    "##Calculate the derivate"
   ]
  },
  {
   "cell_type": "code",
   "execution_count": 55,
   "metadata": {},
   "outputs": [
    {
     "name": "stdout",
     "output_type": "stream",
     "text": [
      "[4.11689253e-01 2.39523688e-02 4.99937558e-01 4.40530718e-03\n",
      " 2.11626296e-01 1.54177884e-01 1.16207336e-02 1.89738462e-01\n",
      " 3.66778182e-02 4.35510354e-01 9.11123805e-02 1.24525555e-02\n",
      " 5.56303290e-02 3.23689082e-01 2.19816053e-01 3.41517848e-01\n",
      " 3.32962313e-01 1.50908840e-01 4.65386860e-01 2.36577818e-02\n",
      " 2.31515091e-01 3.82051754e-01 4.88534197e-01 3.24841157e-01\n",
      " 1.01899315e-04 3.79842988e-01 7.71166412e-03 4.77457026e-01\n",
      " 6.21563150e-02 1.57408646e-02 1.61042084e-03 5.14216838e-02\n",
      " 3.53324860e-01 3.09652372e-01 8.68042249e-02 4.63671083e-01]\n",
      "[1.06734251e-01 9.16695595e-03 2.40710676e-01 2.06668732e-03\n",
      " 1.12344824e-01 9.70749641e-02 3.58664616e-03 8.19857550e-02\n",
      " 1.81125028e-02 2.09690170e-01 5.17428333e-02 8.76290941e-03\n",
      " 1.71698546e-02 1.43861814e-01 1.03123580e-01 1.77083329e-01\n",
      " 1.64425833e-01 9.68797489e-02 2.01093088e-01 1.13907838e-02\n",
      " 1.22903073e-01 1.69800780e-01 1.99032451e-01 1.36353078e-01\n",
      " 5.28366820e-05 1.78197945e-01 3.71302346e-03 2.00414060e-01\n",
      " 2.14861336e-02 4.66395989e-03 9.54323460e-04 2.15844105e-02\n",
      " 1.35223094e-01 1.03217457e-01 3.00063987e-02 9.73136842e-02]\n"
     ]
    }
   ],
   "source": [
    "target = np.ones(number_neural_network)\n",
    "\n",
    "bias_derivate = (2 * ((target - activation ) * np.exp(-activation))) / np.square(1+ np.exp(-activation))\n",
    "\n",
    "print(bias_derivate)\n",
    "\n",
    "weight_derivate = ((2 * ((target - activation ) * np.exp(-activation))) * X) / np.square(1+ np.exp(-activation))\n",
    "\n",
    "print(weight_derivate)\n"
   ]
  }
 ],
 "metadata": {
  "kernelspec": {
   "display_name": ".venv",
   "language": "python",
   "name": "python3"
  },
  "language_info": {
   "codemirror_mode": {
    "name": "ipython",
    "version": 3
   },
   "file_extension": ".py",
   "mimetype": "text/x-python",
   "name": "python",
   "nbconvert_exporter": "python",
   "pygments_lexer": "ipython3",
   "version": "3.10.12"
  }
 },
 "nbformat": 4,
 "nbformat_minor": 2
}
